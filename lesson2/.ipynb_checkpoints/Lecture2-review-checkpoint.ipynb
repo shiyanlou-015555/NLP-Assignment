{
 "cells": [
  {
   "cell_type": "markdown",
   "metadata": {},
   "source": [
    "# AI for NLP. Lecture 2 Part 1"
   ]
  },
  {
   "cell_type": "markdown",
   "metadata": {},
   "source": [
    "## Build Graph"
   ]
  },
  {
   "cell_type": "code",
   "execution_count": 12,
   "metadata": {},
   "outputs": [],
   "source": [
    "coordination_source = \"\"\"\n",
    "{name:'兰州', geoCoord:[103.73, 36.03]},\n",
    "{name:'嘉峪关', geoCoord:[98.17, 39.47]},\n",
    "{name:'西宁', geoCoord:[101.74, 36.56]},\n",
    "{name:'成都', geoCoord:[104.06, 30.67]},\n",
    "{name:'石家庄', geoCoord:[114.48, 38.03]},\n",
    "{name:'拉萨', geoCoord:[102.73, 25.04]},\n",
    "{name:'贵阳', geoCoord:[106.71, 26.57]},\n",
    "{name:'武汉', geoCoord:[114.31, 30.52]},\n",
    "{name:'郑州', geoCoord:[113.65, 34.76]},\n",
    "{name:'济南', geoCoord:[117, 36.65]},\n",
    "{name:'南京', geoCoord:[118.78, 32.04]},\n",
    "{name:'合肥', geoCoord:[117.27, 31.86]},\n",
    "{name:'杭州', geoCoord:[120.19, 30.26]},\n",
    "{name:'南昌', geoCoord:[115.89, 28.68]},\n",
    "{name:'福州', geoCoord:[119.3, 26.08]},\n",
    "{name:'广州', geoCoord:[113.23, 23.16]},\n",
    "{name:'长沙', geoCoord:[113, 28.21]},\n",
    "//{name:'海口', geoCoord:[110.35, 20.02]},\n",
    "{name:'沈阳', geoCoord:[123.38, 41.8]},\n",
    "{name:'长春', geoCoord:[125.35, 43.88]},\n",
    "{name:'哈尔滨', geoCoord:[126.63, 45.75]},\n",
    "{name:'太原', geoCoord:[112.53, 37.87]},\n",
    "{name:'西安', geoCoord:[108.95, 34.27]},\n",
    "//{name:'台湾', geoCoord:[121.30, 25.03]},\n",
    "{name:'北京', geoCoord:[116.46, 39.92]},\n",
    "{name:'上海', geoCoord:[121.48, 31.22]},\n",
    "{name:'重庆', geoCoord:[106.54, 29.59]},\n",
    "{name:'天津', geoCoord:[117.2, 39.13]},\n",
    "{name:'呼和浩特', geoCoord:[111.65, 40.82]},\n",
    "{name:'南宁', geoCoord:[108.33, 22.84]},\n",
    "//{name:'西藏', geoCoord:[91.11, 29.97]},\n",
    "{name:'银川', geoCoord:[106.27, 38.47]},\n",
    "{name:'乌鲁木齐', geoCoord:[87.68, 43.77]},\n",
    "{name:'香港', geoCoord:[114.17, 22.28]},\n",
    "{name:'澳门', geoCoord:[113.54, 22.19]}\n",
    "\"\"\""
   ]
  },
  {
   "cell_type": "markdown",
   "metadata": {},
   "source": [
    "### Get data from source using regular expression"
   ]
  },
  {
   "cell_type": "code",
   "execution_count": 13,
   "metadata": {},
   "outputs": [],
   "source": [
    "import re"
   ]
  },
  {
   "cell_type": "markdown",
   "metadata": {},
   "source": [
    "## regular expression"
   ]
  },
  {
   "cell_type": "markdown",
   "metadata": {},
   "source": [
    "[a-z]\n",
    "[A-Z]\n",
    "[^a]: negation\n",
    "colou?r:  ? zero or one of its previous character\n",
    "* : zero or more of its previous character\n",
    "+: one or more\n",
    ".:match any single character\n",
    "^:start of the line\n",
    "$:end of the line\n",
    "| [cat|dog] : cat or dog\n",
    "(da): make the string da like a character\n"
   ]
  },
  {
   "cell_type": "code",
   "execution_count": 14,
   "metadata": {},
   "outputs": [],
   "source": [
    "l = \"color or colour\""
   ]
  },
  {
   "cell_type": "code",
   "execution_count": 15,
   "metadata": {},
   "outputs": [
    {
     "data": {
      "text/plain": [
       "['color', 'colour']"
      ]
     },
     "execution_count": 15,
     "metadata": {},
     "output_type": "execute_result"
    }
   ],
   "source": [
    "pattern = re.compile(\"colou?r\")\n",
    "pattern.findall(l)"
   ]
  },
  {
   "cell_type": "code",
   "execution_count": 16,
   "metadata": {},
   "outputs": [
    {
     "data": {
      "text/plain": [
       "[]"
      ]
     },
     "execution_count": 16,
     "metadata": {},
     "output_type": "execute_result"
    }
   ],
   "source": [
    "re.findall(\"[A-Z]\",l)"
   ]
  },
  {
   "cell_type": "code",
   "execution_count": 17,
   "metadata": {},
   "outputs": [],
   "source": [
    "def get_city_info(city_coordination):\n",
    "    city_location = {}\n",
    "    for line in city_coordination.split(\"\\n\"):  # 每一行\n",
    "        if line.startswith(\"//\"): continue  # 跳过注释行\n",
    "        if line.strip() == \"\":continue  # 空行\n",
    "            \n",
    "        # findall 返回列表，用[0]取结果\n",
    "        city = re.findall(\"name:'(\\w+)'\",line)[0]  # 城市名\n",
    "        x, y = re.findall(\"Coord:\\[(\\d+.\\d+),\\s(\\d+.\\d+)\\]\",line)[0]\n",
    "        city_location[city] = (float(x), float(y))\n",
    "    return city_location"
   ]
  },
  {
   "cell_type": "code",
   "execution_count": 18,
   "metadata": {},
   "outputs": [],
   "source": [
    "city_info = get_city_info(coordination_source)"
   ]
  },
  {
   "cell_type": "code",
   "execution_count": 19,
   "metadata": {},
   "outputs": [
    {
     "data": {
      "text/plain": [
       "{'兰州': (103.73, 36.03),\n",
       " '嘉峪关': (98.17, 39.47),\n",
       " '西宁': (101.74, 36.56),\n",
       " '成都': (104.06, 30.67),\n",
       " '石家庄': (114.48, 38.03),\n",
       " '拉萨': (102.73, 25.04),\n",
       " '贵阳': (106.71, 26.57),\n",
       " '武汉': (114.31, 30.52),\n",
       " '郑州': (113.65, 34.76),\n",
       " '济南': (117.0, 36.65),\n",
       " '南京': (118.78, 32.04),\n",
       " '合肥': (117.27, 31.86),\n",
       " '杭州': (120.19, 30.26),\n",
       " '南昌': (115.89, 28.68),\n",
       " '福州': (119.3, 26.08),\n",
       " '广州': (113.23, 23.16),\n",
       " '长沙': (113.0, 28.21),\n",
       " '沈阳': (123.38, 41.8),\n",
       " '长春': (125.35, 43.88),\n",
       " '哈尔滨': (126.63, 45.75),\n",
       " '太原': (112.53, 37.87),\n",
       " '西安': (108.95, 34.27),\n",
       " '北京': (116.46, 39.92),\n",
       " '上海': (121.48, 31.22),\n",
       " '重庆': (106.54, 29.59),\n",
       " '天津': (117.2, 39.13),\n",
       " '呼和浩特': (111.65, 40.82),\n",
       " '南宁': (108.33, 22.84),\n",
       " '银川': (106.27, 38.47),\n",
       " '乌鲁木齐': (87.68, 43.77),\n",
       " '香港': (114.17, 22.28),\n",
       " '澳门': (113.54, 22.19)}"
      ]
     },
     "execution_count": 19,
     "metadata": {},
     "output_type": "execute_result"
    }
   ],
   "source": [
    "city_info"
   ]
  },
  {
   "cell_type": "markdown",
   "metadata": {},
   "source": [
    "### Compute distance between cities"
   ]
  },
  {
   "cell_type": "code",
   "execution_count": 20,
   "metadata": {},
   "outputs": [],
   "source": [
    "import math\n",
    "\n",
    "def geo_distance(origin, destination):\n",
    "    # 两地经纬度计算距离\n",
    "    \"\"\"\n",
    "    Calculate the Haversine distance.\n",
    "\n",
    "    Parameters\n",
    "    ----------\n",
    "    origin : tuple of float\n",
    "        (lat, long)\n",
    "    destination : tuple of float\n",
    "        (lat, long)\n",
    "\n",
    "    Returns\n",
    "    -------\n",
    "    distance_in_km : float\n",
    "\n",
    "    Examples\n",
    "    --------\n",
    "    >>> origin = (48.1372, 11.5756)  # Munich\n",
    "    >>> destination = (52.5186, 13.4083)  # Berlin\n",
    "    >>> round(distance(origin, destination), 1)\n",
    "    504.2\n",
    "    \"\"\"\n",
    "    lat1, lon1 = origin\n",
    "    lat2, lon2 = destination\n",
    "    radius = 6371  # km\n",
    "\n",
    "    dlat = math.radians(lat2 - lat1)\n",
    "    dlon = math.radians(lon2 - lon1)\n",
    "    a = (math.sin(dlat / 2) * math.sin(dlat / 2) +\n",
    "         math.cos(math.radians(lat1)) * math.cos(math.radians(lat2)) *\n",
    "         math.sin(dlon / 2) * math.sin(dlon / 2))\n",
    "    c = 2 * math.atan2(math.sqrt(a), math.sqrt(1 - a))\n",
    "    d = radius * c\n",
    "\n",
    "    return d"
   ]
  },
  {
   "cell_type": "code",
   "execution_count": 21,
   "metadata": {},
   "outputs": [
    {
     "data": {
      "text/plain": [
       "153.5185697155768"
      ]
     },
     "execution_count": 21,
     "metadata": {},
     "output_type": "execute_result"
    }
   ],
   "source": [
    "def get_city_distance(city1,city2):\n",
    "    return geo_distance(city_info[city1],city_info[city2])\n",
    "\n",
    "get_city_distance(\"杭州\",\"上海\")"
   ]
  },
  {
   "cell_type": "markdown",
   "metadata": {},
   "source": [
    "### Draw the graph"
   ]
  },
  {
   "cell_type": "code",
   "execution_count": 22,
   "metadata": {},
   "outputs": [],
   "source": [
    "import networkx as nx\n",
    "import matplotlib.pyplot as plt\n",
    "#%matplotlib inline\n",
    "\n",
    "plt.rcParams['font.sans-serif'] = ['SimHei']\n",
    "plt.rcParams['axes.unicode_minus'] = False\n"
   ]
  },
  {
   "cell_type": "code",
   "execution_count": 23,
   "metadata": {},
   "outputs": [
    {
     "data": {
      "text/plain": [
       "dict_keys(['兰州', '嘉峪关', '西宁', '成都', '石家庄', '拉萨', '贵阳', '武汉', '郑州', '济南', '南京', '合肥', '杭州', '南昌', '福州', '广州', '长沙', '沈阳', '长春', '哈尔滨', '太原', '西安', '北京', '上海', '重庆', '天津', '呼和浩特', '南宁', '银川', '乌鲁木齐', '香港', '澳门'])"
      ]
     },
     "execution_count": 23,
     "metadata": {},
     "output_type": "execute_result"
    }
   ],
   "source": [
    "city_info.keys()"
   ]
  },
  {
   "cell_type": "code",
   "execution_count": 24,
   "metadata": {},
   "outputs": [],
   "source": [
    "city_graph = nx.Graph()\n",
    "\n",
    "city_graph.add_nodes_from(list(city_info.keys()))"
   ]
  },
  {
   "cell_type": "code",
   "execution_count": 25,
   "metadata": {},
   "outputs": [
    {
     "data": {
      "image/png": "[encoded data removed]",
      "text/plain": [
       "<Figure size 432x288 with 1 Axes>"
      ]
     },
     "metadata": {},
     "output_type": "display_data"
    }
   ],
   "source": [
    "nx.draw(city_graph, city_info, with_labels=True, node_size=10)"
   ]
  },
  {
   "cell_type": "markdown",
   "metadata": {},
   "source": [
    "### Build connection between. Let's assume that two cities are connected if their distance is less than 700 km."
   ]
  },
  {
   "cell_type": "code",
   "execution_count": 26,
   "metadata": {},
   "outputs": [],
   "source": [
    "threshold = 700   # defined the threshold"
   ]
  },
  {
   "cell_type": "code",
   "execution_count": 27,
   "metadata": {},
   "outputs": [],
   "source": [
    "from collections import defaultdict"
   ]
  },
  {
   "cell_type": "code",
   "execution_count": 28,
   "metadata": {},
   "outputs": [],
   "source": [
    "def build_connection(city_info):\n",
    "    cities_connection = defaultdict(list)\n",
    "    cities = list(city_info.keys())\n",
    "    for c1 in cities:\n",
    "        for c2 in cities:\n",
    "            if c1 == c2 : continue\n",
    "            \n",
    "            if get_city_distance(c1,c2) < threshold:\n",
    "                cities_connection[c1].append(c2)\n",
    "    return cities_connection\n",
    "\n",
    "cities_connection = build_connection(city_info)"
   ]
  },
  {
   "cell_type": "code",
   "execution_count": 29,
   "metadata": {},
   "outputs": [
    {
     "data": {
      "text/plain": [
       "defaultdict(list,\n",
       "            {'兰州': ['嘉峪关', '西宁', '成都', '拉萨', '贵阳', '西安', '重庆', '南宁', '银川'],\n",
       "             '嘉峪关': ['兰州', '西宁', '成都', '拉萨'],\n",
       "             '西宁': ['兰州', '嘉峪关', '成都', '拉萨', '贵阳', '重庆', '银川'],\n",
       "             '成都': ['兰州', '嘉峪关', '西宁', '拉萨', '贵阳', '西安', '重庆', '南宁', '银川'],\n",
       "             '石家庄': ['武汉',\n",
       "              '郑州',\n",
       "              '济南',\n",
       "              '南京',\n",
       "              '合肥',\n",
       "              '南昌',\n",
       "              '广州',\n",
       "              '长沙',\n",
       "              '太原',\n",
       "              '西安',\n",
       "              '北京',\n",
       "              '天津',\n",
       "              '呼和浩特'],\n",
       "             '拉萨': ['兰州', '嘉峪关', '西宁', '成都', '贵阳', '重庆', '南宁', '银川'],\n",
       "             '贵阳': ['兰州', '西宁', '成都', '拉萨', '西安', '重庆', '南宁', '银川'],\n",
       "             '武汉': ['石家庄',\n",
       "              '郑州',\n",
       "              '济南',\n",
       "              '南京',\n",
       "              '合肥',\n",
       "              '杭州',\n",
       "              '南昌',\n",
       "              '福州',\n",
       "              '广州',\n",
       "              '长沙',\n",
       "              '太原',\n",
       "              '西安',\n",
       "              '北京',\n",
       "              '天津',\n",
       "              '呼和浩特',\n",
       "              '香港',\n",
       "              '澳门'],\n",
       "             '郑州': ['石家庄',\n",
       "              '武汉',\n",
       "              '济南',\n",
       "              '南京',\n",
       "              '合肥',\n",
       "              '南昌',\n",
       "              '广州',\n",
       "              '长沙',\n",
       "              '太原',\n",
       "              '西安',\n",
       "              '北京',\n",
       "              '天津',\n",
       "              '呼和浩特',\n",
       "              '香港',\n",
       "              '澳门'],\n",
       "             '济南': ['石家庄',\n",
       "              '武汉',\n",
       "              '郑州',\n",
       "              '南京',\n",
       "              '合肥',\n",
       "              '杭州',\n",
       "              '南昌',\n",
       "              '福州',\n",
       "              '长沙',\n",
       "              '太原',\n",
       "              '北京',\n",
       "              '上海',\n",
       "              '天津',\n",
       "              '呼和浩特'],\n",
       "             '南京': ['石家庄',\n",
       "              '武汉',\n",
       "              '郑州',\n",
       "              '济南',\n",
       "              '合肥',\n",
       "              '杭州',\n",
       "              '南昌',\n",
       "              '福州',\n",
       "              '长沙',\n",
       "              '北京',\n",
       "              '上海',\n",
       "              '天津'],\n",
       "             '合肥': ['石家庄',\n",
       "              '武汉',\n",
       "              '郑州',\n",
       "              '济南',\n",
       "              '南京',\n",
       "              '杭州',\n",
       "              '南昌',\n",
       "              '福州',\n",
       "              '广州',\n",
       "              '长沙',\n",
       "              '太原',\n",
       "              '北京',\n",
       "              '上海',\n",
       "              '天津',\n",
       "              '香港',\n",
       "              '澳门'],\n",
       "             '杭州': ['武汉', '济南', '南京', '合肥', '南昌', '福州', '北京', '上海', '天津'],\n",
       "             '南昌': ['石家庄',\n",
       "              '武汉',\n",
       "              '郑州',\n",
       "              '济南',\n",
       "              '南京',\n",
       "              '合肥',\n",
       "              '杭州',\n",
       "              '福州',\n",
       "              '广州',\n",
       "              '长沙',\n",
       "              '太原',\n",
       "              '北京',\n",
       "              '上海',\n",
       "              '天津',\n",
       "              '香港',\n",
       "              '澳门'],\n",
       "             '福州': ['武汉',\n",
       "              '济南',\n",
       "              '南京',\n",
       "              '合肥',\n",
       "              '杭州',\n",
       "              '南昌',\n",
       "              '广州',\n",
       "              '上海',\n",
       "              '香港',\n",
       "              '澳门'],\n",
       "             '广州': ['石家庄',\n",
       "              '武汉',\n",
       "              '郑州',\n",
       "              '合肥',\n",
       "              '南昌',\n",
       "              '福州',\n",
       "              '长沙',\n",
       "              '太原',\n",
       "              '西安',\n",
       "              '南宁',\n",
       "              '香港',\n",
       "              '澳门'],\n",
       "             '长沙': ['石家庄',\n",
       "              '武汉',\n",
       "              '郑州',\n",
       "              '济南',\n",
       "              '南京',\n",
       "              '合肥',\n",
       "              '南昌',\n",
       "              '广州',\n",
       "              '太原',\n",
       "              '西安',\n",
       "              '北京',\n",
       "              '天津',\n",
       "              '呼和浩特',\n",
       "              '南宁',\n",
       "              '香港',\n",
       "              '澳门'],\n",
       "             '沈阳': ['长春', '哈尔滨', '上海'],\n",
       "             '长春': ['沈阳', '哈尔滨'],\n",
       "             '哈尔滨': ['沈阳', '长春'],\n",
       "             '太原': ['石家庄',\n",
       "              '武汉',\n",
       "              '郑州',\n",
       "              '济南',\n",
       "              '合肥',\n",
       "              '南昌',\n",
       "              '广州',\n",
       "              '长沙',\n",
       "              '西安',\n",
       "              '北京',\n",
       "              '天津',\n",
       "              '呼和浩特',\n",
       "              '银川',\n",
       "              '澳门'],\n",
       "             '西安': ['兰州',\n",
       "              '成都',\n",
       "              '石家庄',\n",
       "              '贵阳',\n",
       "              '武汉',\n",
       "              '郑州',\n",
       "              '广州',\n",
       "              '长沙',\n",
       "              '太原',\n",
       "              '重庆',\n",
       "              '呼和浩特',\n",
       "              '南宁',\n",
       "              '银川'],\n",
       "             '北京': ['石家庄',\n",
       "              '武汉',\n",
       "              '郑州',\n",
       "              '济南',\n",
       "              '南京',\n",
       "              '合肥',\n",
       "              '杭州',\n",
       "              '南昌',\n",
       "              '长沙',\n",
       "              '太原',\n",
       "              '天津',\n",
       "              '呼和浩特'],\n",
       "             '上海': ['济南', '南京', '合肥', '杭州', '南昌', '福州', '沈阳', '天津'],\n",
       "             '重庆': ['兰州', '西宁', '成都', '拉萨', '贵阳', '西安', '呼和浩特', '南宁', '银川'],\n",
       "             '天津': ['石家庄',\n",
       "              '武汉',\n",
       "              '郑州',\n",
       "              '济南',\n",
       "              '南京',\n",
       "              '合肥',\n",
       "              '杭州',\n",
       "              '南昌',\n",
       "              '长沙',\n",
       "              '太原',\n",
       "              '北京',\n",
       "              '上海',\n",
       "              '呼和浩特'],\n",
       "             '呼和浩特': ['石家庄',\n",
       "              '武汉',\n",
       "              '郑州',\n",
       "              '济南',\n",
       "              '长沙',\n",
       "              '太原',\n",
       "              '西安',\n",
       "              '北京',\n",
       "              '重庆',\n",
       "              '天津',\n",
       "              '银川'],\n",
       "             '南宁': ['兰州',\n",
       "              '成都',\n",
       "              '拉萨',\n",
       "              '贵阳',\n",
       "              '广州',\n",
       "              '长沙',\n",
       "              '西安',\n",
       "              '重庆',\n",
       "              '银川',\n",
       "              '香港',\n",
       "              '澳门'],\n",
       "             '银川': ['兰州',\n",
       "              '西宁',\n",
       "              '成都',\n",
       "              '拉萨',\n",
       "              '贵阳',\n",
       "              '太原',\n",
       "              '西安',\n",
       "              '重庆',\n",
       "              '呼和浩特',\n",
       "              '南宁'],\n",
       "             '香港': ['武汉', '郑州', '合肥', '南昌', '福州', '广州', '长沙', '南宁', '澳门'],\n",
       "             '澳门': ['武汉',\n",
       "              '郑州',\n",
       "              '合肥',\n",
       "              '南昌',\n",
       "              '福州',\n",
       "              '广州',\n",
       "              '长沙',\n",
       "              '太原',\n",
       "              '南宁',\n",
       "              '香港']})"
      ]
     },
     "execution_count": 29,
     "metadata": {},
     "output_type": "execute_result"
    }
   ],
   "source": [
    "cities_connection"
   ]
  },
  {
   "cell_type": "markdown",
   "metadata": {},
   "source": [
    "### Draw connection graph"
   ]
  },
  {
   "cell_type": "code",
   "execution_count": 30,
   "metadata": {},
   "outputs": [],
   "source": [
    "cities_connection_graph = nx.Graph(cities_connection)"
   ]
  },
  {
   "cell_type": "code",
   "execution_count": 31,
   "metadata": {},
   "outputs": [
    {
     "name": "stderr",
     "output_type": "stream",
     "text": [
      "C:\\Users\\75253\\Anaconda3\\lib\\site-packages\\networkx\\drawing\\nx_pylab.py:579: MatplotlibDeprecationWarning: \n",
      "The iterable function was deprecated in Matplotlib 3.1 and will be removed in 3.3. Use np.iterable instead.\n",
      "  if not cb.iterable(width):\n"
     ]
    },
    {
     "data": {
      "image/png": "[encoded data removed]",
      "text/plain": [
       "<Figure size 432x288 with 1 Axes>"
      ]
     },
     "metadata": {},
     "output_type": "display_data"
    }
   ],
   "source": [
    "nx.draw(cities_connection_graph,city_info,with_labels=True,node_size=10)"
   ]
  },
  {
   "cell_type": "markdown",
   "metadata": {},
   "source": [
    "### BFS 1 version"
   ]
  },
  {
   "cell_type": "code",
   "execution_count": 32,
   "metadata": {},
   "outputs": [],
   "source": [
    "def search_1(graph,start,destination):\n",
    "    pathes = [[start]]\n",
    "    visited = set()\n",
    "    \n",
    "    while pathes:\n",
    "        path = pathes.pop(0)\n",
    "        froniter = path[-1]\n",
    "        \n",
    "        if froniter in visited: continue\n",
    "        visited.add(froniter)\n",
    "        \n",
    "        successsors = graph[froniter]\n",
    "        \n",
    "        for city in successsors:\n",
    "            if city in path: continue  # check loop\n",
    "            new_path = path+[city]\n",
    "            pathes.append(new_path)  #bfs\n",
    "            #pathes = [new_path] + pathes #dfs\n",
    "            \n",
    "            if city == destination:\n",
    "                return new_path\n",
    "        "
   ]
  },
  {
   "cell_type": "code",
   "execution_count": 33,
   "metadata": {},
   "outputs": [
    {
     "data": {
      "text/plain": [
       "['上海', '合肥', '香港']"
      ]
     },
     "execution_count": 33,
     "metadata": {},
     "output_type": "execute_result"
    }
   ],
   "source": [
    "search_1(cities_connection,\"上海\",\"香港\")"
   ]
  },
  {
   "cell_type": "code",
   "execution_count": 34,
   "metadata": {},
   "outputs": [
    {
     "data": {
      "text/plain": [
       "['拉萨', '重庆', '呼和浩特', '济南', '上海', '沈阳', '哈尔滨']"
      ]
     },
     "execution_count": 34,
     "metadata": {},
     "output_type": "execute_result"
    }
   ],
   "source": [
    "search_1(cities_connection, \"拉萨\", \"哈尔滨\")"
   ]
  },
  {
   "cell_type": "markdown",
   "metadata": {},
   "source": [
    "### Optimal search using variation of BFS"
   ]
  },
  {
   "cell_type": "code",
   "execution_count": 35,
   "metadata": {},
   "outputs": [],
   "source": [
    "def search_2(graph,start,destination,search_strategy):\n",
    "    pathes = [[start]]\n",
    "    #visited = set()\n",
    "    while pathes:\n",
    "        path = pathes.pop(0)\n",
    "        froniter = path[-1]\n",
    "        #if froniter in visited : continue\n",
    "        #if froniter == destination:\n",
    "        #    return path\n",
    "        successsors = graph[froniter]\n",
    "        \n",
    "        for city in successsors:\n",
    "            if city in path: continue  # check loop\n",
    "            \n",
    "            new_path = path+[city]\n",
    "            \n",
    "            pathes.append(new_path)  #bfs\n",
    "            \n",
    "        pathes = search_strategy(pathes)\n",
    "       # visited.add(froniter)\n",
    "        if pathes and (destination == pathes[0][-1]):\n",
    "            return pathes[0]  \n",
    "        "
   ]
  },
  {
   "cell_type": "code",
   "execution_count": 36,
   "metadata": {},
   "outputs": [],
   "source": [
    "def sort_by_distance(pathes):\n",
    "    def get_distance_of_path(path):\n",
    "        distance = 0\n",
    "        for i,_ in enumerate(path[:-1]):\n",
    "            distance += get_city_distance(path[i],path[i+1])\n",
    "        return distance\n",
    "    return sorted(pathes,key=get_distance_of_path)\n"
   ]
  },
  {
   "cell_type": "code",
   "execution_count": 37,
   "metadata": {},
   "outputs": [],
   "source": [
    "def get_distance_of_path(path):\n",
    "    distance = 0\n",
    "    for i,_ in enumerate(path[:-1]):\n",
    "        distance += get_city_distance(path[i],path[i+1])\n",
    "    return distance"
   ]
  },
  {
   "cell_type": "code",
   "execution_count": 38,
   "metadata": {},
   "outputs": [
    {
     "data": {
      "text/plain": [
       "752.66259009181"
      ]
     },
     "execution_count": 38,
     "metadata": {},
     "output_type": "execute_result"
    }
   ],
   "source": [
    "get_distance_of_path([\"北京\",\"济南\",\"上海\"])"
   ]
  },
  {
   "cell_type": "code",
   "execution_count": 39,
   "metadata": {},
   "outputs": [
    {
     "data": {
      "text/plain": [
       "732.5085345714293"
      ]
     },
     "execution_count": 39,
     "metadata": {},
     "output_type": "execute_result"
    }
   ],
   "source": [
    "get_distance_of_path([\"北京\",\"天津\",\"上海\"])"
   ]
  },
  {
   "cell_type": "code",
   "execution_count": 40,
   "metadata": {},
   "outputs": [
    {
     "data": {
      "text/plain": [
       "['北京', '济南', '上海']"
      ]
     },
     "execution_count": 40,
     "metadata": {},
     "output_type": "execute_result"
    }
   ],
   "source": [
    "search_2(cities_connection,\"北京\",\"上海\",search_strategy=lambda x:x)"
   ]
  },
  {
   "cell_type": "code",
   "execution_count": 41,
   "metadata": {},
   "outputs": [
    {
     "data": {
      "text/plain": [
       "['北京', '天津', '上海']"
      ]
     },
     "execution_count": 41,
     "metadata": {},
     "output_type": "execute_result"
    }
   ],
   "source": [
    "search_2(cities_connection,\"北京\",\"上海\",search_strategy=sort_by_distance)"
   ]
  },
  {
   "cell_type": "markdown",
   "metadata": {},
   "source": [
    "# AI for NLP Lecture 1 Part 2"
   ]
  },
  {
   "cell_type": "markdown",
   "metadata": {},
   "source": [
    "## Machine Learning"
   ]
  },
  {
   "cell_type": "code",
   "execution_count": 42,
   "metadata": {},
   "outputs": [],
   "source": [
    "from sklearn.datasets import load_boston\n",
    "import random"
   ]
  },
  {
   "cell_type": "code",
   "execution_count": 43,
   "metadata": {},
   "outputs": [],
   "source": [
    "dataset = load_boston()"
   ]
  },
  {
   "cell_type": "code",
   "execution_count": 44,
   "metadata": {},
   "outputs": [],
   "source": [
    "#dataset"
   ]
  },
  {
   "cell_type": "code",
   "execution_count": 45,
   "metadata": {},
   "outputs": [],
   "source": [
    "x,y=dataset['data'],dataset['target']"
   ]
  },
  {
   "cell_type": "code",
   "execution_count": 46,
   "metadata": {},
   "outputs": [
    {
     "data": {
      "text/plain": [
       "(506, 13)"
      ]
     },
     "execution_count": 46,
     "metadata": {},
     "output_type": "execute_result"
    }
   ],
   "source": [
    "x.shape"
   ]
  },
  {
   "cell_type": "code",
   "execution_count": 47,
   "metadata": {},
   "outputs": [
    {
     "data": {
      "text/plain": [
       "(506,)"
      ]
     },
     "execution_count": 47,
     "metadata": {},
     "output_type": "execute_result"
    }
   ],
   "source": [
    "y.shape"
   ]
  },
  {
   "cell_type": "code",
   "execution_count": 48,
   "metadata": {},
   "outputs": [
    {
     "data": {
      "text/plain": [
       "array([2.7310e-02, 0.0000e+00, 7.0700e+00, 0.0000e+00, 4.6900e-01,\n",
       "       6.4210e+00, 7.8900e+01, 4.9671e+00, 2.0000e+00, 2.4200e+02,\n",
       "       1.7800e+01, 3.9690e+02, 9.1400e+00])"
      ]
     },
     "execution_count": 48,
     "metadata": {},
     "output_type": "execute_result"
    }
   ],
   "source": [
    "x[1].shape\n",
    "x[1]"
   ]
  },
  {
   "cell_type": "code",
   "execution_count": 49,
   "metadata": {},
   "outputs": [
    {
     "data": {
      "text/plain": [
       "array(['CRIM', 'ZN', 'INDUS', 'CHAS', 'NOX', 'RM', 'AGE', 'DIS', 'RAD',\n",
       "       'TAX', 'PTRATIO', 'B', 'LSTAT'], dtype='<U7')"
      ]
     },
     "execution_count": 49,
     "metadata": {},
     "output_type": "execute_result"
    }
   ],
   "source": [
    "dataset.feature_names"
   ]
  },
  {
   "cell_type": "code",
   "execution_count": 50,
   "metadata": {},
   "outputs": [
    {
     "data": {
      "text/plain": [
       "\".. _boston_dataset:\\n\\nBoston house prices dataset\\n---------------------------\\n\\n**Data Set Characteristics:**  \\n\\n    :Number of Instances: 506 \\n\\n    :Number of Attributes: 13 numeric/categorical predictive. Median Value (attribute 14) is usually the target.\\n\\n    :Attribute Information (in order):\\n        - CRIM     per capita crime rate by town\\n        - ZN       proportion of residential land zoned for lots over 25,000 sq.ft.\\n        - INDUS    proportion of non-retail business acres per town\\n        - CHAS     Charles River dummy variable (= 1 if tract bounds river; 0 otherwise)\\n        - NOX      nitric oxides concentration (parts per 10 million)\\n        - RM       average number of rooms per dwelling\\n        - AGE      proportion of owner-occupied units built prior to 1940\\n        - DIS      weighted distances to five Boston employment centres\\n        - RAD      index of accessibility to radial highways\\n        - TAX      full-value property-tax rate per $10,000\\n        - PTRATIO  pupil-teacher ratio by town\\n        - B        1000(Bk - 0.63)^2 where Bk is the proportion of blacks by town\\n        - LSTAT    % lower status of the population\\n        - MEDV     Median value of owner-occupied homes in $1000's\\n\\n    :Missing Attribute Values: None\\n\\n    :Creator: Harrison, D. and Rubinfeld, D.L.\\n\\nThis is a copy of UCI ML housing dataset.\\nhttps://archive.ics.uci.edu/ml/machine-learning-databases/housing/\\n\\n\\nThis dataset was taken from the StatLib library which is maintained at Carnegie Mellon University.\\n\\nThe Boston house-price data of Harrison, D. and Rubinfeld, D.L. 'Hedonic\\nprices and the demand for clean air', J. Environ. Economics & Management,\\nvol.5, 81-102, 1978.   Used in Belsley, Kuh & Welsch, 'Regression diagnostics\\n...', Wiley, 1980.   N.B. Various transformations are used in the table on\\npages 244-261 of the latter.\\n\\nThe Boston house-price data has been used in many machine learning papers that address regression\\nproblems.   \\n     \\n.. topic:: References\\n\\n   - Belsley, Kuh & Welsch, 'Regression diagnostics: Identifying Influential Data and Sources of Collinearity', Wiley, 1980. 244-261.\\n   - Quinlan,R. (1993). Combining Instance-Based and Model-Based Learning. In Proceedings on the Tenth International Conference of Machine Learning, 236-243, University of Massachusetts, Amherst. Morgan Kaufmann.\\n\""
      ]
     },
     "execution_count": 50,
     "metadata": {},
     "output_type": "execute_result"
    }
   ],
   "source": [
    "dataset['DESCR']"
   ]
  },
  {
   "cell_type": "code",
   "execution_count": 66,
   "metadata": {},
   "outputs": [
    {
     "data": {
      "text/plain": [
       "numpy.ndarray"
      ]
     },
     "execution_count": 66,
     "metadata": {},
     "output_type": "execute_result"
    }
   ],
   "source": [
    "X_rm = x[:,5]\n",
    "type(X_rm)"
   ]
  },
  {
   "cell_type": "code",
   "execution_count": 67,
   "metadata": {},
   "outputs": [
    {
     "data": {
      "text/plain": [
       "<matplotlib.collections.PathCollection at 0x194b963b128>"
      ]
     },
     "execution_count": 67,
     "metadata": {},
     "output_type": "execute_result"
    },
    {
     "data": {
      "image/png": "[encoded data removed]",
      "text/plain": [
       "<Figure size 432x288 with 1 Axes>"
      ]
     },
     "metadata": {
      "needs_background": "light"
     },
     "output_type": "display_data"
    }
   ],
   "source": [
    "# plot the RM with respect to y\n",
    "plt.scatter(X_rm,y)"
   ]
  },
  {
   "cell_type": "markdown",
   "metadata": {},
   "source": [
    "### Gradient descent"
   ]
  },
  {
   "cell_type": "markdown",
   "metadata": {},
   "source": [
    "### Assume that the target funciton is a linear function\n",
    "$$ y = k*rm + b$$"
   ]
  },
  {
   "cell_type": "code",
   "execution_count": 53,
   "metadata": {},
   "outputs": [],
   "source": [
    "#define target function\n",
    "def price(rm, k, b):\n",
    "    return k * rm + b"
   ]
  },
  {
   "cell_type": "markdown",
   "metadata": {},
   "source": [
    "### Define mean square loss"
   ]
  },
  {
   "cell_type": "markdown",
   "metadata": {},
   "source": [
    "$$ loss = \\frac{1}{n} \\sum{(y_i - \\hat{y_i})}^2$$"
   ]
  },
  {
   "cell_type": "markdown",
   "metadata": {},
   "source": [
    "$$ loss = \\frac{1}{n} \\sum{(y_i - (kx_i + b_i))}^2 $$"
   ]
  },
  {
   "cell_type": "code",
   "execution_count": 54,
   "metadata": {},
   "outputs": [],
   "source": [
    "# define loss function \n",
    "def loss(y,y_hat):\n",
    "    return sum((y_i - y_hat_i)**2 for y_i, y_hat_i in zip(list(y),list(y_hat)))/len(list(y))"
   ]
  },
  {
   "cell_type": "markdown",
   "metadata": {},
   "source": [
    "### Define partial derivatives"
   ]
  },
  {
   "cell_type": "markdown",
   "metadata": {},
   "source": [
    "$$ \\frac{\\partial{loss}}{\\partial{k}} = -\\frac{2}{n}\\sum(y_i - \\hat{y_i})x_i$$\n"
   ]
  },
  {
   "cell_type": "markdown",
   "metadata": {},
   "source": [
    "$$ \\frac{\\partial{loss}}{\\partial{b}} = -\\frac{2}{n}\\sum(y_i - \\hat{y_i})$$"
   ]
  },
  {
   "cell_type": "code",
   "execution_count": 55,
   "metadata": {},
   "outputs": [],
   "source": [
    "# define partial derivative \n",
    "def partial_derivative_k(x, y, y_hat):\n",
    "    n = len(y)\n",
    "    gradient = 0\n",
    "    for x_i, y_i, y_hat_i in zip(list(x),list(y),list(y_hat)):\n",
    "        gradient += (y_i-y_hat_i) * x_i\n",
    "    return -2/n * gradient\n",
    "\n",
    "def partial_derivative_b(y, y_hat):\n",
    "    n = len(y)\n",
    "    gradient = 0\n",
    "    for y_i, y_hat_i in zip(list(y),list(y_hat)):\n",
    "        gradient += (y_i-y_hat_i)\n",
    "    return -2 / n * gradient"
   ]
  },
  {
   "cell_type": "code",
   "execution_count": 56,
   "metadata": {},
   "outputs": [
    {
     "name": "stdout",
     "output_type": "stream",
     "text": [
      "Iteration 0, the loss is 141391.83074756982, parameters k is -62.16577184770482 and b is 40.6018032607013\n",
      "Iteration 1, the loss is 119186.71699506686, parameters k is -57.41198233687929 and b is 41.34704356176882\n",
      "Iteration 2, the loss is 100472.08319061712, parameters k is -53.0477616153453 and b is 42.03104172417427\n",
      "Iteration 3, the loss is 84699.25155136529, parameters k is -49.04118272866458 and b is 42.65881682701382\n",
      "Iteration 4, the loss is 71405.79240758007, parameters k is -45.362935283241974 and b is 43.234976612753954\n",
      "Iteration 5, the loss is 60201.966633439304, parameters k is -41.98611100712304 and b is 43.763751198161216\n",
      "Iteration 6, the loss is 50759.29922801031, parameters k is -38.88600688507108 and b is 44.24902402246619\n",
      "Iteration 7, the loss is 42800.94904528221, parameters k is -36.03994442763059 and b is 44.69436025918291\n",
      "Iteration 8, the loss is 36093.592331827895, parameters k is -33.42710375192267 and b is 45.10303289944903\n",
      "Iteration 9, the loss is 30440.582112666423, parameters k is -31.028371260282867 and b is 45.478046697716174\n",
      "Iteration 10, the loss is 25676.18287136963, parameters k is -28.826199802335516 and b is 45.82216015498074\n",
      "Iteration 11, the loss is 21660.711496065094, parameters k is -26.804480297429716 and b is 46.13790570038787\n",
      "Iteration 12, the loss is 18276.44203299868, parameters k is -24.948423878207418 and b is 46.42760821885995\n",
      "Iteration 13, the loss is 15424.15418272624, parameters k is -23.24445369304849 and b is 46.693402060300876\n",
      "Iteration 14, the loss is 13020.224347325022, parameters k is -21.680105575803342 and b is 46.93724665481757\n",
      "Iteration 15, the loss is 10994.173943594617, parameters k is -20.24393685609805 and b is 47.16094084820238\n",
      "Iteration 16, the loss is 9286.60310339597, parameters k is -18.92544264305467 and b is 47.36613606255662\n",
      "Iteration 17, the loss is 7847.449181103541, parameters k is -17.71497896994589 and b is 47.55434837834052\n",
      "Iteration 18, the loss is 6634.519010881478, parameters k is -16.603692237498947 and b is 47.72696962624353\n",
      "Iteration 19, the loss is 5612.251882323605, parameters k is -15.583454439645473 and b is 47.88527757002485\n",
      "Iteration 20, the loss is 4750.676967227384, parameters k is -14.646803697819243 and b is 48.03044525482327\n",
      "Iteration 21, the loss is 4024.534631212894, parameters k is -13.786889668741864 and b is 48.16354958933006\n",
      "Iteration 22, the loss is 3412.5358686946815, parameters k is -12.997423426291677 and b is 48.28557922461322\n",
      "Iteration 23, the loss is 2896.738149230617, parameters k is -12.272631450784138 and b is 48.397441787235906\n",
      "Iteration 24, the loss is 2462.0193762355007, parameters k is -11.607213389042402 and b is 48.49997051958744\n",
      "Iteration 25, the loss is 2095.6345355169265, parameters k is -10.99630327622453 and b is 48.5939303760087\n",
      "Iteration 26, the loss is 1786.8420354014788, parameters k is -10.435433935700395 and b is 48.680023619311925\n",
      "Iteration 27, the loss is 1526.5887834455561, parameters k is -9.920504296522509 and b is 48.758894958640006\n",
      "Iteration 28, the loss is 1307.244766771756, parameters k is -9.447749389380528 and b is 48.83113626625454\n",
      "Iteration 29, the loss is 1122.3793544247092, parameters k is -9.013712801525356 and b is 48.897290907761416\n",
      "Iteration 30, the loss is 966.5727633518246, parameters k is -8.615221389138982 and b is 48.95785771745447\n",
      "Iteration 31, the loss is 835.2571605455674, parameters k is -8.249362062141985 and b is 49.01329464786145\n",
      "Iteration 32, the loss is 724.582742760634, parameters k is -7.913460471592891 and b is 49.06402212019285\n",
      "Iteration 33, the loss is 631.3048675148847, parameters k is -7.605061443753242 and b is 49.11042610020613\n",
      "Iteration 34, the loss is 552.6889262670321, parameters k is -7.3219110176710736 and b is 49.15286092198861\n",
      "Iteration 35, the loss is 486.43017083133, parameters k is -7.06193995486708 and b is 49.191651880318425\n",
      "Iteration 36, the loss is 430.58614249038243, parameters k is -6.823248600477898 and b is 49.22709761056955\n",
      "Iteration 37, the loss is 383.51972275457604, parameters k is -6.604092985098357 and b is 49.25947227357266\n",
      "Iteration 38, the loss is 343.8511361233895, parameters k is -6.4028720656417235 and b is 49.289027561416574\n",
      "Iteration 39, the loss is 310.41749765971093, parameters k is -6.21811601187016 and b is 49.315994538865056\n",
      "Iteration 40, the loss is 282.2387193880324, parameters k is -6.0484754528979225 and b is 49.34058533386103\n",
      "Iteration 41, the loss is 258.48877595616125, parameters k is -5.892711604993103 and b is 49.3629946894862\n",
      "Iteration 42, the loss is 238.47148712363534, parameters k is -5.749687208451457 and b is 49.38340138873042\n",
      "Iteration 43, the loss is 221.60010706488885, parameters k is -5.618358207235122 and b is 49.401969562494685\n",
      "Iteration 44, the loss is 207.3801220838831, parameters k is -5.497766110503242 and b is 49.41884989039722\n",
      "Iteration 45, the loss is 195.39475240151526, parameters k is -5.387030980150299 and b is 49.43418070316802\n",
      "Iteration 46, the loss is 185.29273295543987, parameters k is -5.285344993047959 and b is 49.448088994697066\n",
      "Iteration 47, the loss is 176.77801496831435, parameters k is -5.1919665308908165 and b is 49.46069135114055\n",
      "Iteration 48, the loss is 169.60108635379206, parameters k is -5.106214754406487 and b is 49.47209480388252\n",
      "Iteration 49, the loss is 163.55165649087704, parameters k is -5.027464622234145 and b is 49.48239761259247\n",
      "Iteration 50, the loss is 158.4524908979578, parameters k is -4.955142318028892 and b is 49.49168998410768\n",
      "Iteration 51, the loss is 154.15421505075412, parameters k is -4.888721052335963 and b is 49.500054732399896\n",
      "Iteration 52, the loss is 150.53093500187296, parameters k is -4.82771720852067 and b is 49.50756788445468\n",
      "Iteration 53, the loss is 147.4765464067729, parameters k is -4.771686804557108 and b is 49.51429923649615\n",
      "Iteration 54, the loss is 144.90162374370362, parameters k is -4.720222244789576 and b is 49.52031286462656\n",
      "Iteration 55, the loss is 142.73079852540096, parameters k is -4.672949337902084 and b is 49.525667593616625\n",
      "Iteration 56, the loss is 140.90054963662473, parameters k is -4.629524559278991 and b is 49.53041742727628\n",
      "Iteration 57, the loss is 139.35734101438786, parameters k is -4.589632537727782 and b is 49.534611943554616\n",
      "Iteration 58, the loss is 138.05605207116136, parameters k is -4.552983748176484 and b is 49.53829665725955\n",
      "Iteration 59, the loss is 136.95865484400986, parameters k is -4.519312393465142 and b is 49.54151335305094\n",
      "Iteration 60, the loss is 136.03309908615608, parameters k is -4.488374459734235 and b is 49.544300391143366\n",
      "Iteration 61, the loss is 135.25237261395452, parameters k is -4.459945931182961 and b is 49.54669298795522\n",
      "Iteration 62, the loss is 134.5937093604101, parameters k is -4.433821151136292 and b is 49.548723473757214\n",
      "Iteration 63, the loss is 134.0379219168639, parameters k is -4.40981131743013 and b is 49.550421529205515\n",
      "Iteration 64, the loss is 133.56883899421362, parameters k is -4.38774310110657 and b is 49.55181440248983\n",
      "Iteration 65, the loss is 133.17283131109733, parameters k is -4.367457378313449 and b is 49.55292710868523\n",
      "Iteration 66, the loss is 132.83841200896867, parameters k is -4.348808066130556 and b is 49.55378261276616\n",
      "Iteration 67, the loss is 132.555899878981, parameters k is -4.331661053805248 and b is 49.554401997621646\n",
      "Iteration 68, the loss is 132.31713552713362, parameters k is -4.315893221578216 and b is 49.55480461830082\n",
      "Iteration 69, the loss is 132.11524215616535, parameters k is -4.301391539921008 and b is 49.55500824361738\n",
      "Iteration 70, the loss is 131.9444239507799, parameters k is -4.28805224259517 and b is 49.55502918614887\n",
      "Iteration 71, the loss is 131.7997961552275, parameters k is -4.275780067483006 and b is 49.554882421581944\n",
      "Iteration 72, the loss is 131.67724186144477, parameters k is -4.264487559635741 and b is 49.554581698276714\n",
      "Iteration 73, the loss is 131.57329130904247, parameters k is -4.2540944314401035 and b is 49.554139637851826\n",
      "Iteration 74, the loss is 131.48502015845088, parameters k is -4.244526975222196 and b is 49.55356782752608\n",
      "Iteration 75, the loss is 131.4099637547771, parameters k is -4.235717523991181 and b is 49.552876904892294\n",
      "Iteration 76, the loss is 131.3460448687532, parameters k is -4.227603956377509 and b is 49.5520766357435\n",
      "Iteration 77, the loss is 131.29151279627732, parameters k is -4.220129242143729 and b is 49.55117598552094\n",
      "Iteration 78, the loss is 131.24489203105838, parameters k is -4.213241024942786 and b is 49.550183184906615\n",
      "Iteration 79, the loss is 131.20493900554345, parameters k is -4.206891239271192 and b is 49.54910579004014\n",
      "Iteration 80, the loss is 131.17060563185328, parameters k is -4.201035758814654 and b is 49.547950737800626\n",
      "Iteration 81, the loss is 131.14100857381595, parameters k is -4.195634073613386 and b is 49.54672439655793\n",
      "Iteration 82, the loss is 131.1154033492088, parameters k is -4.190648993685216 and b is 49.545432612764586\n",
      "Iteration 83, the loss is 131.09316250293878, parameters k is -4.1860463769381475 and b is 49.54408075372935\n",
      "Iteration 84, the loss is 131.07375721123904, parameters k is -4.181794879381724 and b is 49.54267374688522\n",
      "Iteration 85, the loss is 131.05674177754844, parameters k is -4.177865725809738 and b is 49.5412161158393\n",
      "Iteration 86, the loss is 131.04174056552648, parameters k is -4.17423249927654 and b is 49.53971201346816\n",
      "Iteration 87, the loss is 131.0284369861024, parameters k is -4.170870947826728 and b is 49.538165252300956\n",
      "Iteration 88, the loss is 131.0165642156776, parameters k is -4.1677588070642395 and b is 49.536579332412416\n",
      "Iteration 89, the loss is 131.00589737336003, parameters k is -4.164875637262713 and b is 49.53495746702994\n",
      "Iteration 90, the loss is 130.9962469278784, parameters k is -4.162202673825412 and b is 49.53330260604207\n",
      "Iteration 91, the loss is 130.98745314088248, parameters k is -4.159722690000639 and b is 49.53161745758031\n",
      "Iteration 92, the loss is 130.97938138371487, parameters k is -4.157419870848263 and b is 49.52990450783222\n",
      "Iteration 93, the loss is 130.971918190351, parameters k is -4.155279697535258 and b is 49.52816603923076\n",
      "Iteration 94, the loss is 130.96496793079007, parameters k is -4.153288841113769 and b is 49.52640414715291\n",
      "Iteration 95, the loss is 130.95845000736242, parameters k is -4.151435065004538 and b is 49.524620755249764\n",
      "Iteration 96, the loss is 130.95229649175826, parameters k is -4.149707135472277 and b is 49.522817629520254\n",
      "Iteration 97, the loss is 130.946450133497, parameters k is -4.148094739437986 and b is 49.52099639123149\n",
      "Iteration 98, the loss is 130.94086268145068, parameters k is -4.146588409026935 and b is 49.51915852878018\n",
      "Iteration 99, the loss is 130.93549346921293, parameters k is -4.145179452300284 and b is 49.517305408581976\n",
      "Iteration 100, the loss is 130.93030822283578, parameters k is -4.143859889663565 and b is 49.51543828506838\n",
      "Iteration 101, the loss is 130.92527805598192, parameters k is -4.142622395486785 and b is 49.51355830986436\n",
      "Iteration 102, the loss is 130.92037862303292, parameters k is -4.141460244509024 and b is 49.51166654021383\n",
      "Iteration 103, the loss is 130.91558940532084, parameters k is -4.140367262635431 and b is 49.50976394671461\n",
      "Iteration 104, the loss is 130.91089310955957, parameters k is -4.139337781766625 and b is 49.50785142041945\n",
      "Iteration 105, the loss is 130.90627516083956, parameters k is -4.138366598330038 and b is 49.50592977935514\n",
      "Iteration 106, the loss is 130.90172327531775, parameters k is -4.137448935209807 and b is 49.50399977450732\n",
      "Iteration 107, the loss is 130.8972271000797, parameters k is -4.136580406796682 and b is 49.50206209531479\n",
      "Iteration 108, the loss is 130.89277790961154, parameters k is -4.135756986902258 and b is 49.50011737471358\n",
      "Iteration 109, the loss is 130.88836834998398, parameters k is -4.134974979302784 and b is 49.49816619376761\n",
      "Iteration 110, the loss is 130.8839922232504, parameters k is -4.1342309906970405 and b is 49.49620908591983\n",
      "Iteration 111, the loss is 130.87964430573413, parameters k is -4.133521905880443 and b is 49.49424654089499\n",
      "Iteration 112, the loss is 130.87532019488017, parameters k is -4.132844864953744 and b is 49.49227900828256\n",
      "Iteration 113, the loss is 130.87101618018195, parameters k is -4.1321972423995845 and b is 49.49030690082597\n",
      "Iteration 114, the loss is 130.86672913439517, parameters k is -4.131576627873823 and b is 49.48833059744235\n",
      "Iteration 115, the loss is 130.86245642185372, parameters k is -4.130980808571095 and b is 49.48635044599472\n",
      "Iteration 116, the loss is 130.85819582119805, parameters k is -4.1304077530356045 and b is 49.484366765837024\n",
      "Iteration 117, the loss is 130.8539454602476, parameters k is -4.129855596298693 and b is 49.48237985015059\n",
      "Iteration 118, the loss is 130.84970376111394, parameters k is -4.12932262623445 and b is 49.480389968089106\n",
      "Iteration 119, the loss is 130.84546939393914, parameters k is -4.128807271033547 and b is 49.47839736674776\n",
      "Iteration 120, the loss is 130.84124123790795, parameters k is -4.128308087703648 and b is 49.47640227297105\n",
      "Iteration 121, the loss is 130.83701834838743, parameters k is -4.127823751512268 and b is 49.47440489501246\n",
      "Iteration 122, the loss is 130.83279992923218, parameters k is -4.127353046294825 and b is 49.472405424058024\n",
      "Iteration 123, the loss is 130.82858530944378, parameters k is -4.12689485555701 and b is 49.4704040356251\n",
      "Iteration 124, the loss is 130.82437392349846, parameters k is -4.1264481543063445 and b is 49.46840089084651\n",
      "Iteration 125, the loss is 130.82016529476658, parameters k is -4.1260120015531845 and b is 49.4663961376494\n",
      "Iteration 126, the loss is 130.81595902154015, parameters k is -4.125585533426305 and b is 49.46438991183749\n",
      "Iteration 127, the loss is 130.81175476525488, parameters k is -4.125167956852686 and b is 49.4623823380847\n",
      "Iteration 128, the loss is 130.80755224056492, parameters k is -4.124758543755279 and b is 49.46037353084723\n",
      "Iteration 129, the loss is 130.80335120697706, parameters k is -4.124356625726281 and b is 49.45836359520097\n",
      "Iteration 130, the loss is 130.79915146180062, parameters k is -4.123961589136973 and b is 49.45635262761027\n",
      "Iteration 131, the loss is 130.79495283420445, parameters k is -4.123572870648317 and b is 49.45434071663369\n",
      "Iteration 132, the loss is 130.79075518020971, parameters k is -4.123189953089486 and b is 49.452327943571895\n",
      "Iteration 133, the loss is 130.78655837846802, parameters k is -4.1228123616741685 and b is 49.45031438306251\n",
      "Iteration 134, the loss is 130.78236232670486, parameters k is -4.12243966052696 and b is 49.44830010362616\n",
      "Iteration 135, the loss is 130.7781669387207, parameters k is -4.122071449494437 and b is 49.44628516816779\n",
      "Iteration 136, the loss is 130.7739721418648, parameters k is -4.121707361217575 and b is 49.44426963443691\n",
      "Iteration 137, the loss is 130.76977787490495, parameters k is -4.121347058444097 and b is 49.44225355545007\n",
      "Iteration 138, the loss is 130.76558408623234, parameters k is -4.120990231561088 and b is 49.44023697987881\n",
      "Iteration 139, the loss is 130.76139073234938, parameters k is -4.120636596329819 and b is 49.438219952405696\n",
      "Iteration 140, the loss is 130.75719777659484, parameters k is -4.12028589180622 and b is 49.43620251405125\n",
      "Iteration 141, the loss is 130.75300518806804, parameters k is -4.119937878431773 and b is 49.434184702474106\n",
      "Iteration 142, the loss is 130.74881294072492, parameters k is -4.119592336280867 and b is 49.43216655224647\n",
      "Iteration 143, the loss is 130.7446210126135, parameters k is -4.119249063451792 and b is 49.43014809510712\n",
      "Iteration 144, the loss is 130.74042938523056, parameters k is -4.118907874589598 and b is 49.4281293601936\n"
     ]
    },
    {
     "name": "stdout",
     "output_type": "stream",
     "text": [
      "Iteration 145, the loss is 130.73623804298063, parameters k is -4.118568599530011 and b is 49.426110374255394\n",
      "Iteration 146, the loss is 130.73204697271788, parameters k is -4.1182310820544865 and b is 49.42409116184965\n",
      "Iteration 147, the loss is 130.72785616336134, parameters k is -4.117895178747294 and b is 49.42207174552085\n",
      "Iteration 148, the loss is 130.7236656055706, parameters k is -4.117560757946268 and b is 49.42005214596576\n",
      "Iteration 149, the loss is 130.7194752914715, parameters k is -4.117227698779545 and b is 49.41803238218485\n",
      "Iteration 150, the loss is 130.71528521442676, parameters k is -4.116895890281256 and b is 49.416012471621315\n",
      "Iteration 151, the loss is 130.71109536884012, parameters k is -4.116565230579679 and b is 49.41399243028871\n",
      "Iteration 152, the loss is 130.70690574999432, parameters k is -4.116235626151933 and b is 49.41197227288811\n",
      "Iteration 153, the loss is 130.70271635391154, parameters k is -4.1159069911397514 and b is 49.40995201291567\n",
      "Iteration 154, the loss is 130.698527177238, parameters k is -4.115579246721335 and b is 49.40793166276137\n",
      "Iteration 155, the loss is 130.69433821714546, parameters k is -4.115252320534678 and b is 49.4059112337997\n",
      "Iteration 156, the loss is 130.69014947124876, parameters k is -4.114926146148157 and b is 49.403890736472846\n",
      "Iteration 157, the loss is 130.68596093753595, parameters k is -4.114600662574514 and b is 49.40187018036711\n",
      "Iteration 158, the loss is 130.68177261431006, parameters k is -4.1142758138246585 and b is 49.399849574283074\n",
      "Iteration 159, the loss is 130.67758450013963, parameters k is -4.1139515484980524 and b is 49.39782892629995\n",
      "Iteration 160, the loss is 130.67339659381585, parameters k is -4.113627819406651 and b is 49.39580824383475\n",
      "Iteration 161, the loss is 130.66920889431944, parameters k is -4.113304583229672 and b is 49.393787533696525\n",
      "Iteration 162, the loss is 130.66502140078896, parameters k is -4.112981800196657 and b is 49.39176680213619\n",
      "Iteration 163, the loss is 130.6608341124971, parameters k is -4.112659433796503 and b is 49.38974605489227\n",
      "Iteration 164, the loss is 130.65664702882998, parameters k is -4.112337450510345 and b is 49.38772529723292\n",
      "Iteration 165, the loss is 130.65246014926765, parameters k is -4.112015819566329 and b is 49.38570453399442\n",
      "Iteration 166, the loss is 130.64827347337112, parameters k is -4.1116945127144815 and b is 49.38368376961662\n",
      "Iteration 167, the loss is 130.6440870007686, parameters k is -4.111373504020027 and b is 49.38166300817539\n",
      "Iteration 168, the loss is 130.6399007311451, parameters k is -4.111052769673652 and b is 49.37964225341248\n",
      "Iteration 169, the loss is 130.6357146642342, parameters k is -4.110732287817308 and b is 49.37762150876289\n",
      "Iteration 170, the loss is 130.63152879980888, parameters k is -4.110412038384301 and b is 49.375600777380015\n",
      "Iteration 171, the loss is 130.6273431376774, parameters k is -4.11009200295248 and b is 49.37358006215871\n",
      "Iteration 172, the loss is 130.6231576776758, parameters k is -4.109772164609457 and b is 49.37155936575648\n",
      "Iteration 173, the loss is 130.6189724196647, parameters k is -4.1094525078288795 and b is 49.36953869061296\n",
      "Iteration 174, the loss is 130.6147873635249, parameters k is -4.109133018356834 and b is 49.36751803896774\n",
      "Iteration 175, the loss is 130.61060250915475, parameters k is -4.108813683107567 and b is 49.365497412876756\n",
      "Iteration 176, the loss is 130.60641785646706, parameters k is -4.108494490067746 and b is 49.36347681422738\n",
      "Iteration 177, the loss is 130.6022334053862, parameters k is -4.108175428208574 and b is 49.3614562447522\n",
      "Iteration 178, the loss is 130.59804915584758, parameters k is -4.107856487405097 and b is 49.3594357060417\n",
      "Iteration 179, the loss is 130.59386510779495, parameters k is -4.107537658362134 and b is 49.357415199555945\n",
      "Iteration 180, the loss is 130.58968126117963, parameters k is -4.107218932546273 and b is 49.355394726635225\n",
      "Iteration 181, the loss is 130.5854976159586, parameters k is -4.106900302123435 and b is 49.353374288509904\n",
      "Iteration 182, the loss is 130.5813141720945, parameters k is -4.1065817599015695 and b is 49.351353886309404\n",
      "Iteration 183, the loss is 130.57713092955453, parameters k is -4.10626329927803 and b is 49.349333521070506\n",
      "Iteration 184, the loss is 130.57294788830865, parameters k is -4.105944914191274 and b is 49.34731319374491\n",
      "Iteration 185, the loss is 130.56876504833085, parameters k is -4.105626599076512 and b is 49.345292905206236\n",
      "Iteration 186, the loss is 130.56458240959722, parameters k is -4.1053083488250035 and b is 49.34327265625641\n",
      "Iteration 187, the loss is 130.56039997208643, parameters k is -4.104990158746675 and b is 49.34125244763153\n",
      "Iteration 188, the loss is 130.55621773577866, parameters k is -4.104672024535812 and b is 49.33923228000729\n",
      "Iteration 189, the loss is 130.55203570065592, parameters k is -4.104353942239559 and b is 49.33721215400389\n",
      "Iteration 190, the loss is 130.5478538667017, parameters k is -4.104035908228998 and b is 49.33519207019063\n",
      "Iteration 191, the loss is 130.54367223389977, parameters k is -4.103717919172604 and b is 49.333172029090036\n",
      "Iteration 192, the loss is 130.53949080223586, parameters k is -4.1033999720118715 and b is 49.33115203118172\n",
      "Iteration 193, the loss is 130.53530957169608, parameters k is -4.1030820639389365 and b is 49.32913207690591\n",
      "Iteration 194, the loss is 130.53112854226703, parameters k is -4.102764192376038 and b is 49.32711216666663\n",
      "Iteration 195, the loss is 130.52694771393584, parameters k is -4.102446354956661 and b is 49.325092300834726\n",
      "Iteration 196, the loss is 130.52276708669055, parameters k is -4.10212854950822 and b is 49.32307247975053\n",
      "Iteration 197, the loss is 130.5185866605194, parameters k is -4.101810774036168 and b is 49.3210527037264\n",
      "Iteration 198, the loss is 130.51440643541068, parameters k is -4.101493026709408 and b is 49.319032973049005\n",
      "Iteration 199, the loss is 130.51022641135333, parameters k is -4.1011753058468905 and b is 49.31701328798141\n"
     ]
    }
   ],
   "source": [
    "#initialized parameters\n",
    "\n",
    "k = random.random() * 200 - 100  # -100 100\n",
    "b = random.random() * 200 - 100  # -100 100\n",
    "\n",
    "learning_rate = 1e-3\n",
    "\n",
    "iteration_num = 200 \n",
    "losses = []\n",
    "for i in range(iteration_num):\n",
    "    \n",
    "    price_use_current_parameters = [price(r, k, b) for r in X_rm]  # \\hat{y}\n",
    "    \n",
    "    current_loss = loss(y, price_use_current_parameters)\n",
    "    losses.append(current_loss)\n",
    "    print(\"Iteration {}, the loss is {}, parameters k is {} and b is {}\".format(i,current_loss,k,b))\n",
    "    \n",
    "    k_gradient = partial_derivative_k(X_rm, y, price_use_current_parameters)\n",
    "    b_gradient = partial_derivative_b(y, price_use_current_parameters)\n",
    "    \n",
    "    k = k + (-1 * k_gradient) * learning_rate\n",
    "    b = b + (-1 * b_gradient) * learning_rate\n",
    "best_k = k\n",
    "best_b = b"
   ]
  },
  {
   "cell_type": "code",
   "execution_count": 57,
   "metadata": {},
   "outputs": [
    {
     "data": {
      "text/plain": [
       "[<matplotlib.lines.Line2D at 0x194b9564f60>]"
      ]
     },
     "execution_count": 57,
     "metadata": {},
     "output_type": "execute_result"
    },
    {
     "data": {
      "image/png": "[encoded data removed]",
      "text/plain": [
       "<Figure size 432x288 with 1 Axes>"
      ]
     },
     "metadata": {
      "needs_background": "light"
     },
     "output_type": "display_data"
    }
   ],
   "source": [
    "plt.plot(list(range(iteration_num)),losses)"
   ]
  },
  {
   "cell_type": "code",
   "execution_count": 58,
   "metadata": {},
   "outputs": [
    {
     "data": {
      "text/plain": [
       "<matplotlib.collections.PathCollection at 0x194b95dc4e0>"
      ]
     },
     "execution_count": 58,
     "metadata": {},
     "output_type": "execute_result"
    },
    {
     "data": {
      "image/png": "[encoded data removed]",
      "text/plain": [
       "<Figure size 432x288 with 1 Axes>"
      ]
     },
     "metadata": {
      "needs_background": "light"
     },
     "output_type": "display_data"
    }
   ],
   "source": [
    "price_use_best_parameters = [price(r, best_k, best_b) for r in X_rm]\n",
    "\n",
    "plt.scatter(X_rm,y)\n",
    "plt.scatter(X_rm,price_use_current_parameters)"
   ]
  }
 ],
 "metadata": {
  "kernelspec": {
   "display_name": "Python 3",
   "language": "python",
   "name": "python3"
  },
  "language_info": {
   "codemirror_mode": {
    "name": "ipython",
    "version": 3
   },
   "file_extension": ".py",
   "mimetype": "text/x-python",
   "name": "python",
   "nbconvert_exporter": "python",
   "pygments_lexer": "ipython3",
   "version": "3.7.3"
  }
 },
 "nbformat": 4,
 "nbformat_minor": 2
}
